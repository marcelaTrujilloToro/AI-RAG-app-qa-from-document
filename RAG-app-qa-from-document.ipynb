{
 "cells": [
  {
   "cell_type": "markdown",
   "id": "34eb437b-f04a-4f6f-bc43-d9e0bff7c872",
   "metadata": {},
   "source": [
    "### Basic RAG App: Question & Answering from a Document"
   ]
  },
  {
   "cell_type": "code",
   "execution_count": 2,
   "id": "1d43182c-b76a-4029-901f-1ae0a376169b",
   "metadata": {},
   "outputs": [],
   "source": [
    "import os\n",
    "from dotenv import load_dotenv, find_dotenv\n",
    "_ = load_dotenv(find_dotenv())\n",
    "openai_api_key = os.environ[\"OPENAI_API_KEY\"] \n"
   ]
  },
  {
   "cell_type": "code",
   "execution_count": 3,
   "id": "7083ce9f-42e3-4945-8d66-984f24e40dc2",
   "metadata": {},
   "outputs": [],
   "source": [
    "from langchain.llms import OpenAI"
   ]
  },
  {
   "cell_type": "code",
   "execution_count": 5,
   "id": "756aeacf-116e-4eca-a264-9edefe30b64a",
   "metadata": {},
   "outputs": [],
   "source": [
    "##instance of llm\n",
    "llm = OpenAI()"
   ]
  },
  {
   "cell_type": "markdown",
   "id": "f604d1e9-1895-4c90-8e0c-1d9e1d4e700b",
   "metadata": {},
   "source": [
    "**Load the text file**"
   ]
  },
  {
   "cell_type": "code",
   "execution_count": 6,
   "id": "972ed1b4-b2fb-47e5-851b-0d498c13eb16",
   "metadata": {},
   "outputs": [],
   "source": [
    "from langchain.document_loaders import TextLoader"
   ]
  },
  {
   "cell_type": "code",
   "execution_count": 9,
   "id": "efd096b8-b947-459b-8363-3e53ade97a15",
   "metadata": {},
   "outputs": [],
   "source": [
    "loader = TextLoader(\"be-good-and-how-not-to-die.txt\")"
   ]
  },
  {
   "cell_type": "code",
   "execution_count": 10,
   "id": "4c901352-d1e4-4fc7-8f91-ce4ed53f2683",
   "metadata": {},
   "outputs": [],
   "source": [
    "document = loader.load()"
   ]
  },
  {
   "cell_type": "markdown",
   "id": "4698a521-0716-4d24-a283-3a793c8c960f",
   "metadata": {},
   "source": [
    "**The document is loaded as a Python list with metadata**"
   ]
  },
  {
   "cell_type": "code",
   "execution_count": 11,
   "id": "1cd6ea9a-77d4-4fd5-ba14-7f0584caf0e9",
   "metadata": {},
   "outputs": [
    {
     "name": "stdout",
     "output_type": "stream",
     "text": [
      "<class 'list'>\n"
     ]
    }
   ],
   "source": [
    "print(type(document))"
   ]
  },
  {
   "cell_type": "code",
   "execution_count": 13,
   "id": "cd049ce0-5d53-40da-b6d3-a4733acb56f7",
   "metadata": {},
   "outputs": [
    {
     "name": "stdout",
     "output_type": "stream",
     "text": [
      "1\n"
     ]
    }
   ],
   "source": [
    "print(len(document))"
   ]
  },
  {
   "cell_type": "code",
   "execution_count": 15,
   "id": "84ff533c-e3b3-4665-8b26-722bd4b32d4f",
   "metadata": {},
   "outputs": [
    {
     "name": "stdout",
     "output_type": "stream",
     "text": [
      "{'source': 'be-good-and-how-not-to-die.txt'}\n"
     ]
    }
   ],
   "source": [
    "print(document[0].metadata)"
   ]
  },
  {
   "cell_type": "code",
   "execution_count": 16,
   "id": "ceb76307-21f7-47c0-8b92-58e5ccae5a12",
   "metadata": {},
   "outputs": [
    {
     "name": "stdout",
     "output_type": "stream",
     "text": [
      "You have 1 document.\n"
     ]
    }
   ],
   "source": [
    "print(f\"You have {len(document)} document.\")"
   ]
  },
  {
   "cell_type": "code",
   "execution_count": 18,
   "id": "0756e89d-b018-44d6-8742-3dfa712c157b",
   "metadata": {},
   "outputs": [
    {
     "name": "stdout",
     "output_type": "stream",
     "text": [
      "Your document has 27419 characters\n"
     ]
    }
   ],
   "source": [
    "print(f\"Your document has {len(document[0].page_content)} characters\")"
   ]
  },
  {
   "cell_type": "markdown",
   "id": "9b01b7e8-b913-4da1-8f4f-86ada1760d32",
   "metadata": {},
   "source": [
    "**Split the document in small chunks**"
   ]
  },
  {
   "cell_type": "code",
   "execution_count": 19,
   "id": "d907aff0-46a0-45ae-8e70-424b7fdea71c",
   "metadata": {},
   "outputs": [],
   "source": [
    "from langchain.text_splitter import RecursiveCharacterTextSplitter"
   ]
  },
  {
   "cell_type": "code",
   "execution_count": 21,
   "id": "79013452-2516-4c9c-a8a7-ae2583483eba",
   "metadata": {},
   "outputs": [],
   "source": [
    "text_splitter = RecursiveCharacterTextSplitter(\n",
    "    chunk_size = 3000,\n",
    "    chunk_overlap = 400\n",
    ")"
   ]
  },
  {
   "cell_type": "code",
   "execution_count": 22,
   "id": "c593eaea-5e28-495b-86ad-fa63f5091af1",
   "metadata": {},
   "outputs": [],
   "source": [
    "document_chunks = text_splitter.split_documents(document)"
   ]
  },
  {
   "cell_type": "code",
   "execution_count": 23,
   "id": "3667be52-5e19-4481-82fd-0f0fa28a2396",
   "metadata": {},
   "outputs": [
    {
     "name": "stdout",
     "output_type": "stream",
     "text": [
      "Now you have 12 chunks.\n"
     ]
    }
   ],
   "source": [
    "print(f\"Now you have {len(document_chunks)} chunks.\")"
   ]
  },
  {
   "cell_type": "markdown",
   "id": "f0543495-cf2a-40f3-a46e-d771bbdb684d",
   "metadata": {},
   "source": [
    "**Convert thext chunks in numeric vectors (Called \"Embeddings\")**"
   ]
  },
  {
   "cell_type": "code",
   "execution_count": 24,
   "id": "8250e631-16a7-43f9-b800-58157ee07205",
   "metadata": {},
   "outputs": [],
   "source": [
    "from langchain.embeddings.openai import OpenAIEmbeddings"
   ]
  },
  {
   "cell_type": "code",
   "execution_count": 26,
   "id": "48ebf5d1-6715-4acb-bc6b-347d05551098",
   "metadata": {},
   "outputs": [],
   "source": [
    "# instance of embeddings\n",
    "embeddings = OpenAIEmbeddings()"
   ]
  },
  {
   "cell_type": "markdown",
   "id": "74971dfc-7b49-4667-aab8-4becf36f5134",
   "metadata": {},
   "source": [
    "**Load the embeddings to a vector database**"
   ]
  },
  {
   "cell_type": "code",
   "execution_count": 27,
   "id": "30457ee3-02e1-427c-8596-d83327f95def",
   "metadata": {},
   "outputs": [],
   "source": [
    "from langchain.vectorstores import FAISS"
   ]
  },
  {
   "cell_type": "markdown",
   "id": "233bad0e-c0f2-4687-82d0-902b12721f32",
   "metadata": {},
   "source": [
    "Careful: the next operation is expensive in OpenAI"
   ]
  },
  {
   "cell_type": "code",
   "execution_count": 28,
   "id": "5d125db6-c98c-4d6e-820d-da60fe1bb3d0",
   "metadata": {},
   "outputs": [],
   "source": [
    "## Create a vector database called FAISS with the embeddings created from the conversion of the text into numbers\n",
    "stored_embeddings = FAISS.from_documents(document_chunks, embeddings)"
   ]
  },
  {
   "cell_type": "markdown",
   "id": "6af1ae68-f29a-42a7-b6e6-8c699c88aedd",
   "metadata": {},
   "source": [
    "**Create a Retrival Question & Ansuering Chain**"
   ]
  },
  {
   "cell_type": "code",
   "execution_count": 29,
   "id": "3f25863c-931c-4a84-9163-0f2f895d274c",
   "metadata": {},
   "outputs": [],
   "source": [
    "from langchain.chains import RetrievalQA"
   ]
  },
  {
   "cell_type": "code",
   "execution_count": 30,
   "id": "764097ef-b390-4730-843a-53e66a414a22",
   "metadata": {},
   "outputs": [],
   "source": [
    "QA_chain = RetrievalQA.from_chain_type(\n",
    "    llm = llm,\n",
    "    chain_type= \"stuff\",\n",
    "    retriever = stored_embeddings.as_retriever()\n",
    ")"
   ]
  },
  {
   "cell_type": "markdown",
   "id": "ed702064-b27d-4f56-b7e6-eba01da45a5f",
   "metadata": {},
   "source": [
    "**Now we have a Question & Ansuwering APP**"
   ]
  },
  {
   "cell_type": "code",
   "execution_count": 31,
   "id": "bb4f59cb-eaff-40db-9253-66a5c727c558",
   "metadata": {},
   "outputs": [],
   "source": [
    "question = \"\"\"\n",
    "What is this article about? \n",
    "Describe it in less than 100 words.\n",
    "\"\"\""
   ]
  },
  {
   "cell_type": "code",
   "execution_count": 32,
   "id": "1ffb3baf-d18d-405a-b8f8-9253e4eeff70",
   "metadata": {},
   "outputs": [
    {
     "data": {
      "text/plain": [
       "'\\nThis article is about the challenges and risks involved in starting a successful company. It discusses the importance of perseverance and not giving up, even when facing difficult obstacles. The author shares personal experiences and advice for avoiding failure and achieving success in the startup world.'"
      ]
     },
     "execution_count": 32,
     "metadata": {},
     "output_type": "execute_result"
    }
   ],
   "source": [
    "QA_chain.run(question)"
   ]
  },
  {
   "cell_type": "code",
   "execution_count": 33,
   "id": "a6139c37-bfed-4873-b990-5e2ce234c4a4",
   "metadata": {},
   "outputs": [],
   "source": [
    "question2 = \"\"\"\n",
    "And how does it explain how to create somethin people want?\n",
    "\"\"\""
   ]
  },
  {
   "cell_type": "code",
   "execution_count": 36,
   "id": "ddf805ec-dae1-4888-9d80-7bc255beb23b",
   "metadata": {},
   "outputs": [
    {
     "data": {
      "text/plain": [
       "' It explains that creating something people want involves having a sense of mission and genuinely wanting to help people, as well as constantly seeking feedback and making improvements based on user needs.'"
      ]
     },
     "execution_count": 36,
     "metadata": {},
     "output_type": "execute_result"
    }
   ],
   "source": [
    "QA_chain.run(question2)"
   ]
  },
  {
   "cell_type": "code",
   "execution_count": null,
   "id": "5377dd05-7682-4879-864d-6b332172f7f5",
   "metadata": {},
   "outputs": [],
   "source": []
  }
 ],
 "metadata": {
  "kernelspec": {
   "display_name": "Python 3 (ipykernel)",
   "language": "python",
   "name": "python3"
  },
  "language_info": {
   "codemirror_mode": {
    "name": "ipython",
    "version": 3
   },
   "file_extension": ".py",
   "mimetype": "text/x-python",
   "name": "python",
   "nbconvert_exporter": "python",
   "pygments_lexer": "ipython3",
   "version": "3.12.4"
  }
 },
 "nbformat": 4,
 "nbformat_minor": 5
}
