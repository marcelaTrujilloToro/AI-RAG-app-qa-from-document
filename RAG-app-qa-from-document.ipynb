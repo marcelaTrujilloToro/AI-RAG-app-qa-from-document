{
 "cells": [
  {
   "cell_type": "markdown",
   "id": "34eb437b-f04a-4f6f-bc43-d9e0bff7c872",
   "metadata": {},
   "source": [
    "### Basic RAG App: Question & Answering from a Document"
   ]
  },
  {
   "cell_type": "code",
   "execution_count": null,
   "id": "1d43182c-b76a-4029-901f-1ae0a376169b",
   "metadata": {},
   "outputs": [],
   "source": []
  }
 ],
 "metadata": {
  "kernelspec": {
   "display_name": "Python 3 (ipykernel)",
   "language": "python",
   "name": "python3"
  },
  "language_info": {
   "codemirror_mode": {
    "name": "ipython",
    "version": 3
   },
   "file_extension": ".py",
   "mimetype": "text/x-python",
   "name": "python",
   "nbconvert_exporter": "python",
   "pygments_lexer": "ipython3",
   "version": "3.12.4"
  }
 },
 "nbformat": 4,
 "nbformat_minor": 5
}
